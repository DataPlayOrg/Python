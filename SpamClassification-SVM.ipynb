{
 "cells": [
  {
   "cell_type": "code",
   "execution_count": 1,
   "id": "392ad1aa",
   "metadata": {},
   "outputs": [
    {
     "name": "stdout",
     "output_type": "stream",
     "text": [
      "Requirement already satisfied: scikit-learn in c:\\users\\gupta\\anaconda3\\lib\\site-packages (1.5.1)\n",
      "Requirement already satisfied: imbalanced-learn in c:\\users\\gupta\\appdata\\roaming\\python\\python311\\site-packages (0.12.3)\n",
      "Requirement already satisfied: numpy>=1.19.5 in c:\\users\\gupta\\anaconda3\\lib\\site-packages (from scikit-learn) (1.24.3)\n",
      "Requirement already satisfied: scipy>=1.6.0 in c:\\users\\gupta\\anaconda3\\lib\\site-packages (from scikit-learn) (1.11.1)\n",
      "Requirement already satisfied: joblib>=1.2.0 in c:\\users\\gupta\\anaconda3\\lib\\site-packages (from scikit-learn) (1.2.0)\n",
      "Requirement already satisfied: threadpoolctl>=3.1.0 in c:\\users\\gupta\\anaconda3\\lib\\site-packages (from scikit-learn) (3.5.0)\n"
     ]
    }
   ],
   "source": [
    "!pip install --user -U scikit-learn imbalanced-learn"
   ]
  },
  {
   "cell_type": "code",
   "execution_count": null,
   "id": "0937c406",
   "metadata": {},
   "outputs": [],
   "source": [
    "import pandas as pd\n",
    "\n",
    "from sklearn.model_selection import train_test_split\n",
    "from sklearn.feature_extraction.text import CountVectorizer\n",
    "from sklearn.svm import SVC\n",
    "from sklearn.metrics import classification_report, confusion_matrix\n",
    "from imblearn.over_sampling import SMOTE\n",
    "import numpy as np"
   ]
  },
  {
   "cell_type": "markdown",
   "id": "9c6cc66b",
   "metadata": {},
   "source": [
    "### 2. Loading the Dataset\n",
    "This line loads the CSV file named `spam.csv` into a pandas DataFrame `df`.\n",
    "\n",
    "- **`encoding='utf-8'`**: Specifies the file's encoding.\n",
    "- **`encoding_errors='ignore'`**: Ignores any encoding errors that might occur while reading the file."
   ]
  },
  {
   "cell_type": "code",
   "execution_count": null,
   "id": "e006f7b8",
   "metadata": {},
   "outputs": [],
   "source": [
    "# Load dataset\n",
    "df = pd.read_csv('spam.csv', encoding='utf-8', encoding_errors='ignore')"
   ]
  },
  {
   "cell_type": "code",
   "execution_count": null,
   "id": "77286b52",
   "metadata": {},
   "outputs": [],
   "source": [
    "df"
   ]
  },
  {
   "cell_type": "markdown",
   "id": "871de986",
   "metadata": {},
   "source": [
    "### 3. Preparing the Data"
   ]
  },
  {
   "cell_type": "code",
   "execution_count": null,
   "id": "11abb71c",
   "metadata": {},
   "outputs": [],
   "source": [
    "# Checking column names (assuming 'v1' is the label and 'v2' is the text)\n",
    "df.columns = ['label', 'message', 'Unnamed: 2', 'Unnamed: 3', 'Unnamed: 4']\n",
    "df = df[['label', 'message']]  # Keep only necessary columns"
   ]
  },
  {
   "cell_type": "code",
   "execution_count": null,
   "id": "41ee1b90",
   "metadata": {},
   "outputs": [],
   "source": [
    "df"
   ]
  },
  {
   "cell_type": "code",
   "execution_count": null,
   "id": "82114d0f",
   "metadata": {},
   "outputs": [],
   "source": [
    "df[\"label\"].value_counts(normalize = True)"
   ]
  },
  {
   "cell_type": "markdown",
   "id": "260169a8",
   "metadata": {},
   "source": [
    "### 4. Splitting the Data into Training and Testing Sets\n",
    "\n",
    "The `train_test_split(...)` function is used to split the dataset into training and testing sets.\n",
    "\n",
    "- **`test_size=0.2`**: Specifies that 20% of the data will be used for testing, while the remaining 80% will be used for training.\n",
    "- **`stratify=df['label']`**: Ensures that the split is stratified, meaning the proportion of spam vs. non-spam messages is maintained in both the training and testing sets."
   ]
  },
  {
   "cell_type": "code",
   "execution_count": null,
   "id": "309bd44d",
   "metadata": {},
   "outputs": [],
   "source": [
    "# Stratified train-test split\n",
    "X_train, X_test, y_train, y_test = train_test_split(\n",
    "    df['message'], df['label'], test_size=0.2, stratify=df['label'], random_state=42\n",
    ")"
   ]
  },
  {
   "cell_type": "markdown",
   "id": "e2e029d3",
   "metadata": {},
   "source": [
    "### 5. Vectorizing the Text Data\n",
    "\n",
    "- **`CountVectorizer(stop_words='english')`**: Initializes a `CountVectorizer`, which converts the text into a matrix of token counts, ignoring common English stop words.\n",
    "- **`fit_transform(X_train)`**: Learns the vocabulary from the training set and transforms the training text data into a sparse matrix of token counts.\n",
    "- **`transform(X_test)`**: Transforms the test text data into the same matrix format, using the vocabulary learned from the training data."
   ]
  },
  {
   "cell_type": "code",
   "execution_count": null,
   "id": "0e74d1a8",
   "metadata": {},
   "outputs": [],
   "source": [
    "# Count Vectorization\n",
    "count_vectorizer = CountVectorizer(stop_words='english')\n",
    "X_train_count = count_vectorizer.fit_transform(X_train)\n",
    "\n",
    "\n",
    "X_test_count = count_vectorizer.transform(X_test)"
   ]
  },
  {
   "cell_type": "code",
   "execution_count": null,
   "id": "b274c65f",
   "metadata": {},
   "outputs": [],
   "source": [
    "X_train_count.todense()"
   ]
  },
  {
   "cell_type": "code",
   "execution_count": null,
   "id": "e15ff36e",
   "metadata": {},
   "outputs": [],
   "source": [
    "y_train.value_counts()"
   ]
  },
  {
   "cell_type": "code",
   "execution_count": null,
   "id": "04b4b039",
   "metadata": {},
   "outputs": [],
   "source": [
    "y_train.value_counts(normalize = True)"
   ]
  },
  {
   "cell_type": "markdown",
   "id": "0834fb2a",
   "metadata": {},
   "source": [
    "### 6. Applying SMOTE to Handle Class Imbalance\n",
    "\n",
    "- **`SMOTE(random_state=42)`**: Creates an instance of SMOTE with a random state for reproducibility.\n",
    "- **`fit_resample(X_train_count, y_train)`**: Applies SMOTE to the training data:\n",
    "  - **`X_train_count`**: The vectorized text data of the training set.\n",
    "  - **`y_train`**: The labels (spam/ham) of the training set.\n",
    "  - **`X_train_smote, y_train_smote`**: Outputs the new balanced training set after adding synthetic examples to the minority class."
   ]
  },
  {
   "cell_type": "code",
   "execution_count": null,
   "id": "ad21421d",
   "metadata": {},
   "outputs": [],
   "source": [
    "# Apply SMOTE to the training set\n",
    "smote = SMOTE(random_state=42)\n",
    "X_train_smote, y_train_smote = smote.fit_resample(X_train_count, y_train)"
   ]
  },
  {
   "cell_type": "code",
   "execution_count": null,
   "id": "a0aebda5",
   "metadata": {},
   "outputs": [],
   "source": [
    "y_train_smote.value_counts()"
   ]
  },
  {
   "cell_type": "markdown",
   "id": "7ce39cbc",
   "metadata": {},
   "source": [
    "### 7. Training the SVM Model\n",
    "\n",
    "- **`SVC(kernel='linear', random_state=42)`**: Initializes an SVM classifier with a specified kernel. Possible kernel values include:\n",
    "  - **`'linear'`**: A linear kernel, which is suitable for linearly separable data.\n",
    "  - **`'poly'`**: A polynomial kernel, which can model non-linear decision boundaries with polynomial functions.\n",
    "  - **`'rbf'`**: A radial basis function (RBF) kernel, which is effective for capturing complex relationships in the data.\n",
    "  - **`'sigmoid'`**: A sigmoid kernel, which mimics the behavior of a neural network and can be used for non-linear problems.\n",
    "\n",
    "- **`fit(X_train_smote, y_train_smote)`**: Trains the SVM model using the SMOTE-balanced training data.\n",
    "  - **`X_train_smote`**: The balanced vectorized text data of the training set.\n",
    "  - **`y_train_smote`**: The balanced labels (spam/ham) of the training set.\n"
   ]
  },
  {
   "cell_type": "code",
   "execution_count": null,
   "id": "d5af7df1",
   "metadata": {},
   "outputs": [],
   "source": [
    "# Train SVM model\n",
    "svm_model = SVC(kernel='linear', random_state=42)\n",
    "svm_model.fit(X_train_smote, y_train_smote)"
   ]
  },
  {
   "cell_type": "code",
   "execution_count": null,
   "id": "ad2e2aa4",
   "metadata": {},
   "outputs": [],
   "source": [
    "# Make predictions\n",
    "y_pred = svm_model.predict(X_test_count)"
   ]
  },
  {
   "attachments": {
    "image.png": {
     "image/png": "[encoded data removed]"
    }
   },
   "cell_type": "markdown",
   "id": "2c2e1bd3",
   "metadata": {},
   "source": [
    "### 9. Evaluating the Model\n",
    "\n",
    "![image.png](attachment:image.png)\n"
   ]
  },
  {
   "cell_type": "code",
   "execution_count": null,
   "id": "e207eae0",
   "metadata": {},
   "outputs": [],
   "source": [
    "# Evaluate the model\n",
    "print(\"Classification Report:\\n\", classification_report(y_test, y_pred, digits=4))\n",
    "print(\"Confusion Matrix:\\n\", confusion_matrix(y_test, y_pred))"
   ]
  },
  {
   "cell_type": "code",
   "execution_count": null,
   "id": "baa36564",
   "metadata": {},
   "outputs": [],
   "source": [
    "import pandas as pd\n",
    "from sklearn.model_selection import train_test_split\n",
    "from sklearn.feature_extraction.text import TfidfVectorizer\n",
    "from sklearn.svm import SVC\n",
    "from sklearn.metrics import classification_report, accuracy_score, confusion_matrix\n",
    "from imblearn.over_sampling import SMOTE\n",
    "import pandas as pd\n",
    "from sklearn.feature_extraction.text import CountVectorizer, TfidfVectorizer\n",
    "import matplotlib.pyplot as plt\n",
    "import numpy as np\n",
    "\n",
    "# Load dataset\n",
    "df = pd.read_csv('spam.csv', encoding='utf-8', encoding_errors='ignore')\n",
    "\n",
    "\n",
    "# Checking column names (assuming 'v1' is the label and 'v2' is the text)\n",
    "df.columns = ['label', 'message', 'Unnamed: 2', 'Unnamed: 3', 'Unnamed: 4']\n",
    "df = df[['label', 'message']]  # Keep only necessary columns\n",
    "\n",
    "# Stratified train-test split\n",
    "X_train, X_test, y_train, y_test = train_test_split(\n",
    "    df['message'], df['label'], test_size=0.2, stratify=df['label'], random_state=42\n",
    ")\n",
    "\n",
    "# TF-IDF Vectorization\n",
    "tfidf_vectorizer = TfidfVectorizer(stop_words='english')\n",
    "X_train_tfidf = tfidf_vectorizer.fit_transform(X_train)\n",
    "X_test_tfidf = tfidf_vectorizer.transform(X_test)\n",
    "\n",
    "# Apply SMOTE to the training set\n",
    "smote = SMOTE(random_state=42)\n",
    "X_train_smote, y_train_smote = smote.fit_resample(X_train_tfidf, y_train)\n",
    "\n",
    "# Train SVM model\n",
    "svm_model = SVC(kernel='linear', random_state=42)\n",
    "svm_model.fit(X_train_smote, y_train_smote)\n",
    "\n",
    "# Make predictions\n",
    "y_pred = svm_model.predict(X_test_tfidf)\n",
    "\n",
    "# Evaluate the model\n",
    "print(\"Classification Report:\\n\", classification_report(y_test, y_pred, digits=4))\n",
    "print(\"Confusion Matrix:\\n\", confusion_matrix(y_test, y_pred))"
   ]
  }
 ],
 "metadata": {
  "kernelspec": {
   "display_name": "Python 3 (ipykernel)",
   "language": "python",
   "name": "python3"
  },
  "language_info": {
   "codemirror_mode": {
    "name": "ipython",
    "version": 3
   },
   "file_extension": ".py",
   "mimetype": "text/x-python",
   "name": "python",
   "nbconvert_exporter": "python",
   "pygments_lexer": "ipython3",
   "version": "3.11.5"
  }
 },
 "nbformat": 4,
 "nbformat_minor": 5
}
