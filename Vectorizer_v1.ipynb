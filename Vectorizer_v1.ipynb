{
 "cells": [
  {
   "cell_type": "markdown",
   "id": "8593ab2b",
   "metadata": {},
   "source": [
    "# Printing all documents (corpus) under consideration"
   ]
  },
  {
   "cell_type": "code",
   "execution_count": 28,
   "id": "e8f39974",
   "metadata": {},
   "outputs": [
    {
     "name": "stdout",
     "output_type": "stream",
     "text": [
      "\n",
      "The quick brown fox jumps over the lazy dog\n",
      "The lazy dog likes to sleep all day\n",
      "The brown fox prefers to eat cheese\n",
      "The red fox jumps over the brown fox\n",
      "The brown dog chases the fox\n",
      "\n"
     ]
    }
   ],
   "source": [
    "print(\"\"\"\n",
    "The quick brown fox jumps over the lazy dog\n",
    "The lazy dog likes to sleep all day\n",
    "The brown fox prefers to eat cheese\n",
    "The red fox jumps over the brown fox\n",
    "The brown dog chases the fox\n",
    "\"\"\")"
   ]
  },
  {
   "cell_type": "markdown",
   "id": "38b2e795",
   "metadata": {},
   "source": [
    "# Creating a list of above documents for further analysis \n",
    "\n",
    "## List -> ordered collection of items"
   ]
  },
  {
   "cell_type": "code",
   "execution_count": 2,
   "id": "e75cb7b0",
   "metadata": {},
   "outputs": [
    {
     "name": "stdout",
     "output_type": "stream",
     "text": [
      "Step 1: New Empty List : []\n",
      "\n",
      "Step 2: List After Adding Elements\n",
      "['The quick brown fox jumps over the lazy dog', 'The lazy dog likes to sleep all day', 'The brown fox prefers to eat cheese', 'The red fox jumps over the brown fox', 'The brown dog chases the fox']\n",
      "\n",
      "Step 3:Print specific elements of a list\n",
      "The quick brown fox jumps over the lazy dog\n"
     ]
    }
   ],
   "source": [
    "# Create an empty list\n",
    "doc_list = []\n",
    "\n",
    "# Print the empty list\n",
    "print(\"Step 1: New Empty List :\", doc_list)\n",
    "\n",
    "# Add elements to the list\n",
    "doc_list.append(\"The quick brown fox jumps over the lazy dog\")\n",
    "doc_list.append(\"The lazy dog likes to sleep all day\")\n",
    "doc_list.append(\"The brown fox prefers to eat cheese\")\n",
    "doc_list.append(\"The red fox jumps over the brown fox\")\n",
    "doc_list.append(\"The brown dog chases the fox\")\n",
    "\n",
    "# Print the list with added elements\n",
    "print(\"\\nStep 2: List After Adding Elements\")\n",
    "print(doc_list)\n",
    "\n",
    "# Print specific elements of a list \n",
    "print(\"\\nStep 3:Print specific elements of a list\")\n",
    "print(doc_list[0])"
   ]
  },
  {
   "cell_type": "markdown",
   "id": "1b6ea676",
   "metadata": {},
   "source": [
    "# Iterating through above list \n",
    "## Using Control Flow Statements in Python "
   ]
  },
  {
   "cell_type": "code",
   "execution_count": 3,
   "id": "42cf6b7a",
   "metadata": {},
   "outputs": [
    {
     "name": "stdout",
     "output_type": "stream",
     "text": [
      "The quick brown fox jumps over the lazy dog\n",
      "The lazy dog likes to sleep all day\n",
      "The brown fox prefers to eat cheese\n",
      "The red fox jumps over the brown fox\n",
      "The brown dog chases the fox\n"
     ]
    }
   ],
   "source": [
    "# Print the documents\n",
    "for doc in doc_list:\n",
    "    print(doc)"
   ]
  },
  {
   "cell_type": "code",
   "execution_count": 4,
   "id": "2dae2b36",
   "metadata": {},
   "outputs": [
    {
     "name": "stdout",
     "output_type": "stream",
     "text": [
      "0 The quick brown fox jumps over the lazy dog\n",
      "1 The lazy dog likes to sleep all day\n",
      "2 The brown fox prefers to eat cheese\n",
      "3 The red fox jumps over the brown fox\n",
      "4 The brown dog chases the fox\n"
     ]
    }
   ],
   "source": [
    "# Print the documents\n",
    "for i, doc in enumerate(doc_list):\n",
    "    print(i, doc)"
   ]
  },
  {
   "cell_type": "markdown",
   "id": "f9e33aca",
   "metadata": {},
   "source": [
    "# Converting each document to lower case and then tokenizing\n",
    "## Strings and Basic Operations"
   ]
  },
  {
   "cell_type": "code",
   "execution_count": 5,
   "id": "8fe8b45b",
   "metadata": {},
   "outputs": [
    {
     "name": "stdout",
     "output_type": "stream",
     "text": [
      "['the quick brown fox jumps over the lazy dog', 'the lazy dog likes to sleep all day', 'the brown fox prefers to eat cheese', 'the red fox jumps over the brown fox', 'the brown dog chases the fox']\n"
     ]
    }
   ],
   "source": [
    "doc_list_lower = []\n",
    "for doc in doc_list : \n",
    "    doc_lower = doc.lower()\n",
    "    doc_list_lower.append(doc_lower)\n",
    "\n",
    "print(doc_list_lower)"
   ]
  },
  {
   "cell_type": "code",
   "execution_count": 6,
   "id": "890ed647",
   "metadata": {},
   "outputs": [
    {
     "name": "stdout",
     "output_type": "stream",
     "text": [
      "[['the', 'quick', 'brown', 'fox', 'jumps', 'over', 'the', 'lazy', 'dog'], ['the', 'lazy', 'dog', 'likes', 'to', 'sleep', 'all', 'day'], ['the', 'brown', 'fox', 'prefers', 'to', 'eat', 'cheese'], ['the', 'red', 'fox', 'jumps', 'over', 'the', 'brown', 'fox'], ['the', 'brown', 'dog', 'chases', 'the', 'fox']]\n"
     ]
    }
   ],
   "source": [
    "tokens_list = []\n",
    "for doc_lower in doc_list_lower:\n",
    "    tokens = doc_lower.split()  # by default it splits on \" \"\n",
    "    tokens_list.append(tokens)\n",
    "\n",
    "print(tokens_list)"
   ]
  },
  {
   "cell_type": "markdown",
   "id": "d1bfaff9",
   "metadata": {},
   "source": [
    "# Get single list of all tokens in the corpus"
   ]
  },
  {
   "cell_type": "code",
   "execution_count": 7,
   "id": "df693b22",
   "metadata": {},
   "outputs": [],
   "source": [
    "all_tokens = []\n",
    "\n",
    "for token_list in tokens_list:\n",
    "    for token in token_list:\n",
    "        all_tokens.append(token)  "
   ]
  },
  {
   "cell_type": "markdown",
   "id": "fc627480",
   "metadata": {},
   "source": [
    "# Identifying Unique tokens in the corpus \n",
    "## Set -> Collection of Unique items"
   ]
  },
  {
   "cell_type": "code",
   "execution_count": 8,
   "id": "03d23d79",
   "metadata": {},
   "outputs": [
    {
     "name": "stdout",
     "output_type": "stream",
     "text": [
      "{'likes', 'jumps', 'day', 'over', 'to', 'sleep', 'red', 'chases', 'brown', 'quick', 'dog', 'the', 'lazy', 'cheese', 'eat', 'fox', 'prefers', 'all'}\n"
     ]
    }
   ],
   "source": [
    "unique_tokens = set(all_tokens)\n",
    "print(unique_tokens)"
   ]
  },
  {
   "cell_type": "markdown",
   "id": "9a5fe520",
   "metadata": {},
   "source": [
    "# Remove Stop Words"
   ]
  },
  {
   "cell_type": "code",
   "execution_count": 9,
   "id": "9fec7bb0",
   "metadata": {},
   "outputs": [
    {
     "name": "stdout",
     "output_type": "stream",
     "text": [
      "{'likes', 'jumps', 'day', 'over', 'sleep', 'red', 'chases', 'brown', 'quick', 'dog', 'lazy', 'cheese', 'eat', 'fox', 'prefers', 'all'}\n"
     ]
    }
   ],
   "source": [
    "unique_tokens.discard(\"to\")\n",
    "unique_tokens.discard(\"the\")\n",
    "print(unique_tokens)"
   ]
  },
  {
   "cell_type": "markdown",
   "id": "6ec7e28d",
   "metadata": {},
   "source": [
    "# Stemming"
   ]
  },
  {
   "cell_type": "code",
   "execution_count": 10,
   "id": "f8ced4ed",
   "metadata": {},
   "outputs": [
    {
     "name": "stdout",
     "output_type": "stream",
     "text": [
      "{'day', 'over', 'sleep', 'red', 'prefer', 'brown', 'quick', 'like', 'dog', 'lazy', 'cheese', 'chase', 'eat', 'fox', 'jump', 'all'}\n"
     ]
    }
   ],
   "source": [
    "updated_tokens = set()\n",
    "\n",
    "# Iterate over the original set\n",
    "for token in unique_tokens:\n",
    "    # Remove ending 's' if it exists\n",
    "    if token.endswith('s'):\n",
    "        updated_tokens.add(token[:-1])  # Add the token without the last character\n",
    "    else:\n",
    "        updated_tokens.add(token)  # Add the token unchanged\n",
    "\n",
    "# Update the original set\n",
    "unique_tokens = updated_tokens\n",
    "\n",
    "print(unique_tokens)"
   ]
  },
  {
   "cell_type": "markdown",
   "id": "227f2350",
   "metadata": {},
   "source": [
    "# Indexing the token and storing it in a dictionary\n",
    "## Dictionary -> Collection of key,value pairs"
   ]
  },
  {
   "cell_type": "code",
   "execution_count": 11,
   "id": "1b4a7d87",
   "metadata": {},
   "outputs": [
    {
     "ename": "KeyError",
     "evalue": "'like'",
     "output_type": "error",
     "traceback": [
      "\u001b[1;31m---------------------------------------------------------------------------\u001b[0m",
      "\u001b[1;31mKeyError\u001b[0m                                  Traceback (most recent call last)",
      "Cell \u001b[1;32mIn[11], line 8\u001b[0m\n\u001b[0;32m      4\u001b[0m unique_tokens_mapping[\u001b[38;5;124m\"\u001b[39m\u001b[38;5;124mdog\u001b[39m\u001b[38;5;124m\"\u001b[39m] \u001b[38;5;241m=\u001b[39m \u001b[38;5;241m1\u001b[39m\n\u001b[0;32m      6\u001b[0m \u001b[38;5;66;03m# ...\u001b[39;00m\n\u001b[1;32m----> 8\u001b[0m \u001b[38;5;28mprint\u001b[39m(unique_tokens_mapping[\u001b[38;5;124m\"\u001b[39m\u001b[38;5;124mlike\u001b[39m\u001b[38;5;124m\"\u001b[39m])\n",
      "\u001b[1;31mKeyError\u001b[0m: 'like'"
     ]
    }
   ],
   "source": [
    "# Initialize an empty dictionary to hold the vocabulary\n",
    "unique_tokens_mapping = {}\n",
    "unique_tokens_mapping[\"likes\"] = 0\n",
    "unique_tokens_mapping[\"dog\"] = 1\n",
    "\n",
    "# ...\n",
    "\n",
    "print(unique_tokens_mapping[\"like\"])"
   ]
  },
  {
   "cell_type": "markdown",
   "id": "8e2cfd03",
   "metadata": {},
   "source": [
    "## ??? Brain Teaser"
   ]
  },
  {
   "cell_type": "code",
   "execution_count": 12,
   "id": "805b69b5",
   "metadata": {},
   "outputs": [],
   "source": [
    "# Initialize an empty dictionary to hold the vocabulary\n",
    "unique_tokens_mapping = {}\n",
    "unique_tokens_mapping[\"likes\"] = 0\n",
    "unique_tokens_mapping[\"dog\"] = 1\n",
    "unique_tokens_mapping[\"likes\"] = 2\n",
    "# ...\n",
    "\n",
    "#print(unique_tokens_mapping[\"likes\"])"
   ]
  },
  {
   "cell_type": "code",
   "execution_count": 13,
   "id": "ed80335f",
   "metadata": {},
   "outputs": [
    {
     "name": "stdout",
     "output_type": "stream",
     "text": [
      "{'day': 0, 'over': 1, 'sleep': 2, 'red': 3, 'prefer': 4, 'brown': 5, 'quick': 6, 'like': 7, 'dog': 8, 'lazy': 9, 'cheese': 10, 'chase': 11, 'eat': 12, 'fox': 13, 'jump': 14, 'all': 15}\n"
     ]
    }
   ],
   "source": [
    "# Initialize an empty dictionary to hold the vocabulary\n",
    "unique_tokens_mapping = {}\n",
    "\n",
    "# Create the vocabulary dictionary using a for loop\n",
    "index = 0\n",
    "for token in unique_tokens:\n",
    "    unique_tokens_mapping[token] = index\n",
    "    index += 1\n",
    "    \n",
    "print(unique_tokens_mapping)"
   ]
  },
  {
   "cell_type": "markdown",
   "id": "141b0922",
   "metadata": {},
   "source": [
    "# Creating Count Vectorizer"
   ]
  },
  {
   "cell_type": "code",
   "execution_count": 14,
   "id": "b2b02219",
   "metadata": {},
   "outputs": [
    {
     "data": {
      "image/png": "[encoded data removed]",
      "text/plain": [
       "<IPython.core.display.Image object>"
      ]
     },
     "metadata": {
      "image/png": {
       "height": 600,
       "width": 900
      }
     },
     "output_type": "display_data"
    },
    {
     "data": {
      "image/png": "[encoded data removed]",
      "text/plain": [
       "<IPython.core.display.Image object>"
      ]
     },
     "metadata": {
      "image/png": {
       "height": 600,
       "width": 900
      }
     },
     "output_type": "display_data"
    }
   ],
   "source": [
    "from IPython.display import Image, display\n",
    "\n",
    "# Replace the path with the actual path to your image file\n",
    "image_path = r'empty vector.png'\n",
    "display(Image(filename=image_path, width=900, height=600))\n",
    "\n",
    "image_path = r'final vector.png'\n",
    "display(Image(filename=image_path, width=900, height=600))"
   ]
  },
  {
   "cell_type": "code",
   "execution_count": 15,
   "id": "82920e22",
   "metadata": {},
   "outputs": [
    {
     "data": {
      "text/plain": [
       "array([[0, 0, 0, 0, 0, 0, 0, 0, 0, 0, 0, 0, 0, 0, 0, 0],\n",
       "       [0, 0, 0, 0, 0, 0, 0, 0, 0, 0, 0, 0, 0, 0, 0, 0],\n",
       "       [0, 0, 0, 0, 0, 0, 0, 0, 0, 0, 0, 0, 0, 0, 0, 0],\n",
       "       [0, 0, 0, 0, 0, 0, 0, 0, 0, 0, 0, 0, 0, 0, 0, 0],\n",
       "       [0, 0, 0, 0, 0, 0, 0, 0, 0, 0, 0, 0, 0, 0, 0, 0]])"
      ]
     },
     "execution_count": 15,
     "metadata": {},
     "output_type": "execute_result"
    }
   ],
   "source": [
    "# Step 3: Generate Count-vectorizer Matrix with Initial Zeros using Two Loops\n",
    "num_docs = len(doc_list)\n",
    "num_words = len(unique_tokens)\n",
    "\n",
    "import numpy as np\n",
    "# Initialize the Count-vectorizer Matrix with zeros using 2 for loops\n",
    "cvm = np.zeros((len(doc_list), len(unique_tokens)), dtype=int)\n",
    "cvm"
   ]
  },
  {
   "cell_type": "code",
   "execution_count": 16,
   "id": "6c9fcf20",
   "metadata": {},
   "outputs": [
    {
     "data": {
      "text/html": [
       "<div>\n",
       "<style scoped>\n",
       "    .dataframe tbody tr th:only-of-type {\n",
       "        vertical-align: middle;\n",
       "    }\n",
       "\n",
       "    .dataframe tbody tr th {\n",
       "        vertical-align: top;\n",
       "    }\n",
       "\n",
       "    .dataframe thead th {\n",
       "        text-align: right;\n",
       "    }\n",
       "</style>\n",
       "<table border=\"1\" class=\"dataframe\">\n",
       "  <thead>\n",
       "    <tr style=\"text-align: right;\">\n",
       "      <th></th>\n",
       "      <th>day</th>\n",
       "      <th>over</th>\n",
       "      <th>sleep</th>\n",
       "      <th>red</th>\n",
       "      <th>prefer</th>\n",
       "      <th>brown</th>\n",
       "      <th>quick</th>\n",
       "      <th>like</th>\n",
       "      <th>dog</th>\n",
       "      <th>lazy</th>\n",
       "      <th>cheese</th>\n",
       "      <th>chase</th>\n",
       "      <th>eat</th>\n",
       "      <th>fox</th>\n",
       "      <th>jump</th>\n",
       "      <th>all</th>\n",
       "    </tr>\n",
       "  </thead>\n",
       "  <tbody>\n",
       "    <tr>\n",
       "      <th>0</th>\n",
       "      <td>0</td>\n",
       "      <td>0</td>\n",
       "      <td>0</td>\n",
       "      <td>0</td>\n",
       "      <td>0</td>\n",
       "      <td>0</td>\n",
       "      <td>0</td>\n",
       "      <td>0</td>\n",
       "      <td>0</td>\n",
       "      <td>0</td>\n",
       "      <td>0</td>\n",
       "      <td>0</td>\n",
       "      <td>0</td>\n",
       "      <td>0</td>\n",
       "      <td>0</td>\n",
       "      <td>0</td>\n",
       "    </tr>\n",
       "    <tr>\n",
       "      <th>1</th>\n",
       "      <td>0</td>\n",
       "      <td>0</td>\n",
       "      <td>0</td>\n",
       "      <td>0</td>\n",
       "      <td>0</td>\n",
       "      <td>0</td>\n",
       "      <td>0</td>\n",
       "      <td>0</td>\n",
       "      <td>0</td>\n",
       "      <td>0</td>\n",
       "      <td>0</td>\n",
       "      <td>0</td>\n",
       "      <td>0</td>\n",
       "      <td>0</td>\n",
       "      <td>0</td>\n",
       "      <td>0</td>\n",
       "    </tr>\n",
       "    <tr>\n",
       "      <th>2</th>\n",
       "      <td>0</td>\n",
       "      <td>0</td>\n",
       "      <td>0</td>\n",
       "      <td>0</td>\n",
       "      <td>0</td>\n",
       "      <td>0</td>\n",
       "      <td>0</td>\n",
       "      <td>0</td>\n",
       "      <td>0</td>\n",
       "      <td>0</td>\n",
       "      <td>0</td>\n",
       "      <td>0</td>\n",
       "      <td>0</td>\n",
       "      <td>0</td>\n",
       "      <td>0</td>\n",
       "      <td>0</td>\n",
       "    </tr>\n",
       "    <tr>\n",
       "      <th>3</th>\n",
       "      <td>0</td>\n",
       "      <td>0</td>\n",
       "      <td>0</td>\n",
       "      <td>0</td>\n",
       "      <td>0</td>\n",
       "      <td>0</td>\n",
       "      <td>0</td>\n",
       "      <td>0</td>\n",
       "      <td>0</td>\n",
       "      <td>0</td>\n",
       "      <td>0</td>\n",
       "      <td>0</td>\n",
       "      <td>0</td>\n",
       "      <td>0</td>\n",
       "      <td>0</td>\n",
       "      <td>0</td>\n",
       "    </tr>\n",
       "    <tr>\n",
       "      <th>4</th>\n",
       "      <td>0</td>\n",
       "      <td>0</td>\n",
       "      <td>0</td>\n",
       "      <td>0</td>\n",
       "      <td>0</td>\n",
       "      <td>0</td>\n",
       "      <td>0</td>\n",
       "      <td>0</td>\n",
       "      <td>0</td>\n",
       "      <td>0</td>\n",
       "      <td>0</td>\n",
       "      <td>0</td>\n",
       "      <td>0</td>\n",
       "      <td>0</td>\n",
       "      <td>0</td>\n",
       "      <td>0</td>\n",
       "    </tr>\n",
       "  </tbody>\n",
       "</table>\n",
       "</div>"
      ],
      "text/plain": [
       "   day  over  sleep  red  prefer  brown  quick  like  dog  lazy  cheese  \\\n",
       "0    0     0      0    0       0      0      0     0    0     0       0   \n",
       "1    0     0      0    0       0      0      0     0    0     0       0   \n",
       "2    0     0      0    0       0      0      0     0    0     0       0   \n",
       "3    0     0      0    0       0      0      0     0    0     0       0   \n",
       "4    0     0      0    0       0      0      0     0    0     0       0   \n",
       "\n",
       "   chase  eat  fox  jump  all  \n",
       "0      0    0    0     0    0  \n",
       "1      0    0    0     0    0  \n",
       "2      0    0    0     0    0  \n",
       "3      0    0    0     0    0  \n",
       "4      0    0    0     0    0  "
      ]
     },
     "execution_count": 16,
     "metadata": {},
     "output_type": "execute_result"
    }
   ],
   "source": [
    "import pandas as pd \n",
    "pd.DataFrame(cvm,columns=unique_tokens_mapping.keys())"
   ]
  },
  {
   "cell_type": "code",
   "execution_count": 17,
   "id": "3106b313",
   "metadata": {},
   "outputs": [
    {
     "data": {
      "text/html": [
       "<div>\n",
       "<style scoped>\n",
       "    .dataframe tbody tr th:only-of-type {\n",
       "        vertical-align: middle;\n",
       "    }\n",
       "\n",
       "    .dataframe tbody tr th {\n",
       "        vertical-align: top;\n",
       "    }\n",
       "\n",
       "    .dataframe thead th {\n",
       "        text-align: right;\n",
       "    }\n",
       "</style>\n",
       "<table border=\"1\" class=\"dataframe\">\n",
       "  <thead>\n",
       "    <tr style=\"text-align: right;\">\n",
       "      <th></th>\n",
       "      <th>day</th>\n",
       "      <th>over</th>\n",
       "      <th>sleep</th>\n",
       "      <th>red</th>\n",
       "      <th>prefer</th>\n",
       "      <th>brown</th>\n",
       "      <th>quick</th>\n",
       "      <th>like</th>\n",
       "      <th>dog</th>\n",
       "      <th>lazy</th>\n",
       "      <th>cheese</th>\n",
       "      <th>chase</th>\n",
       "      <th>eat</th>\n",
       "      <th>fox</th>\n",
       "      <th>jump</th>\n",
       "      <th>all</th>\n",
       "    </tr>\n",
       "  </thead>\n",
       "  <tbody>\n",
       "    <tr>\n",
       "      <th>0</th>\n",
       "      <td>0</td>\n",
       "      <td>1</td>\n",
       "      <td>0</td>\n",
       "      <td>0</td>\n",
       "      <td>0</td>\n",
       "      <td>1</td>\n",
       "      <td>1</td>\n",
       "      <td>0</td>\n",
       "      <td>1</td>\n",
       "      <td>1</td>\n",
       "      <td>0</td>\n",
       "      <td>0</td>\n",
       "      <td>0</td>\n",
       "      <td>1</td>\n",
       "      <td>0</td>\n",
       "      <td>0</td>\n",
       "    </tr>\n",
       "    <tr>\n",
       "      <th>1</th>\n",
       "      <td>1</td>\n",
       "      <td>0</td>\n",
       "      <td>1</td>\n",
       "      <td>0</td>\n",
       "      <td>0</td>\n",
       "      <td>0</td>\n",
       "      <td>0</td>\n",
       "      <td>0</td>\n",
       "      <td>1</td>\n",
       "      <td>1</td>\n",
       "      <td>0</td>\n",
       "      <td>0</td>\n",
       "      <td>0</td>\n",
       "      <td>0</td>\n",
       "      <td>0</td>\n",
       "      <td>1</td>\n",
       "    </tr>\n",
       "    <tr>\n",
       "      <th>2</th>\n",
       "      <td>0</td>\n",
       "      <td>0</td>\n",
       "      <td>0</td>\n",
       "      <td>0</td>\n",
       "      <td>0</td>\n",
       "      <td>1</td>\n",
       "      <td>0</td>\n",
       "      <td>0</td>\n",
       "      <td>0</td>\n",
       "      <td>0</td>\n",
       "      <td>1</td>\n",
       "      <td>0</td>\n",
       "      <td>1</td>\n",
       "      <td>1</td>\n",
       "      <td>0</td>\n",
       "      <td>0</td>\n",
       "    </tr>\n",
       "    <tr>\n",
       "      <th>3</th>\n",
       "      <td>0</td>\n",
       "      <td>1</td>\n",
       "      <td>0</td>\n",
       "      <td>1</td>\n",
       "      <td>0</td>\n",
       "      <td>1</td>\n",
       "      <td>0</td>\n",
       "      <td>0</td>\n",
       "      <td>0</td>\n",
       "      <td>0</td>\n",
       "      <td>0</td>\n",
       "      <td>0</td>\n",
       "      <td>0</td>\n",
       "      <td>2</td>\n",
       "      <td>0</td>\n",
       "      <td>0</td>\n",
       "    </tr>\n",
       "    <tr>\n",
       "      <th>4</th>\n",
       "      <td>0</td>\n",
       "      <td>0</td>\n",
       "      <td>0</td>\n",
       "      <td>0</td>\n",
       "      <td>0</td>\n",
       "      <td>1</td>\n",
       "      <td>0</td>\n",
       "      <td>0</td>\n",
       "      <td>1</td>\n",
       "      <td>0</td>\n",
       "      <td>0</td>\n",
       "      <td>0</td>\n",
       "      <td>0</td>\n",
       "      <td>1</td>\n",
       "      <td>0</td>\n",
       "      <td>0</td>\n",
       "    </tr>\n",
       "  </tbody>\n",
       "</table>\n",
       "</div>"
      ],
      "text/plain": [
       "   day  over  sleep  red  prefer  brown  quick  like  dog  lazy  cheese  \\\n",
       "0    0     1      0    0       0      1      1     0    1     1       0   \n",
       "1    1     0      1    0       0      0      0     0    1     1       0   \n",
       "2    0     0      0    0       0      1      0     0    0     0       1   \n",
       "3    0     1      0    1       0      1      0     0    0     0       0   \n",
       "4    0     0      0    0       0      1      0     0    1     0       0   \n",
       "\n",
       "   chase  eat  fox  jump  all  \n",
       "0      0    0    1     0    0  \n",
       "1      0    0    0     0    1  \n",
       "2      0    1    1     0    0  \n",
       "3      0    0    2     0    0  \n",
       "4      0    0    1     0    0  "
      ]
     },
     "execution_count": 17,
     "metadata": {},
     "output_type": "execute_result"
    }
   ],
   "source": [
    "# Step 4: Update the Count-vectorizer Matrix\n",
    "for i in range(num_docs):\n",
    "    tokens = tokens_list[i]                             # Get all tokens document wise\n",
    "    for token in tokens:                                # iterate through each token of this document one by one\n",
    "        if token in unique_tokens_mapping:              # Check if the token is in the vocabulary, if yes, go inside the loop\n",
    "            j = unique_tokens_mapping[token]                # Get the index of the token as defined in the vocabulary\n",
    "            cvm[i][j] += 1                                  # Increment the count for this token in this document in the CVM\n",
    "            \n",
    "pd.DataFrame(cvm,columns=unique_tokens_mapping.keys())"
   ]
  },
  {
   "cell_type": "markdown",
   "id": "1b7111c2",
   "metadata": {},
   "source": [
    "# Directly implementing count vectorizer using python libraries"
   ]
  },
  {
   "cell_type": "code",
   "execution_count": 21,
   "id": "48b18a0f",
   "metadata": {},
   "outputs": [],
   "source": [
    "# Define a function to preprocess text\n",
    "def preprocess_text(text):\n",
    "    # Tokenize the text\n",
    "    tokens = text.lower().split()\n",
    "    # Remove stopwords and stem the tokens\n",
    "    stop_words = set(stopwords.words('english'))\n",
    "    stemmed_tokens = [stemmer.stem(word) for word in tokens if word not in stop_words]\n",
    "    return ' '.join(stemmed_tokens)"
   ]
  },
  {
   "cell_type": "code",
   "execution_count": 25,
   "id": "db2e10da",
   "metadata": {},
   "outputs": [
    {
     "name": "stdout",
     "output_type": "stream",
     "text": [
      "   brown  chase  chees  day  dog  eat  fox  jump  lazi  like  prefer  quick  \\\n",
      "0      1      0      0    0    1    0    1     1     1     0       0      1   \n",
      "1      0      0      0    1    1    0    0     0     1     1       0      0   \n",
      "2      1      0      1    0    0    1    1     0     0     0       1      0   \n",
      "3      1      0      0    0    0    0    2     1     0     0       0      0   \n",
      "4      1      1      0    0    1    0    1     0     0     0       0      0   \n",
      "\n",
      "   red  sleep  \n",
      "0    0      0  \n",
      "1    0      1  \n",
      "2    0      0  \n",
      "3    1      0  \n",
      "4    0      0  \n"
     ]
    },
    {
     "name": "stderr",
     "output_type": "stream",
     "text": [
      "[nltk_data] Downloading package stopwords to\n",
      "[nltk_data]     C:\\Users\\gupta\\AppData\\Roaming\\nltk_data...\n",
      "[nltk_data]   Package stopwords is already up-to-date!\n"
     ]
    }
   ],
   "source": [
    "from sklearn.feature_extraction.text import CountVectorizer\n",
    "import pandas as pd\n",
    "import nltk\n",
    "from nltk.corpus import stopwords\n",
    "from nltk.stem import PorterStemmer\n",
    "import re\n",
    "\n",
    "# Download the stopwords\n",
    "nltk.download('stopwords')\n",
    "\n",
    "# Initialize the stemmer\n",
    "stemmer = PorterStemmer()\n",
    "\n",
    "# Initialize CountVectorizer with custom preprocessing\n",
    "vectorizer = CountVectorizer(preprocessor=preprocess_text)\n",
    "\n",
    "# Fit and transform the documents\n",
    "X = vectorizer.fit_transform(doc_list)\n",
    "\n",
    "# Convert to a DataFrame\n",
    "df = pd.DataFrame(X.toarray(), columns=vectorizer.get_feature_names_out())\n",
    "\n",
    "# Print the DataFrame\n",
    "print(df)"
   ]
  },
  {
   "cell_type": "code",
   "execution_count": 23,
   "id": "c8d3f5b8",
   "metadata": {},
   "outputs": [
    {
     "name": "stdout",
     "output_type": "stream",
     "text": [
      "TF-IDF Matrix:\n",
      "   brown  chase  chees   day   dog   eat   fox  jump  lazi  like  prefer  \\\n",
      "0   0.31   0.00   0.00  0.00  0.36  0.00  0.31  0.44  0.44  0.00    0.00   \n",
      "1   0.00   0.00   0.00  0.49  0.33  0.00  0.00  0.00  0.40  0.49    0.00   \n",
      "2   0.30   0.00   0.52  0.00  0.00  0.52  0.30  0.00  0.00  0.00    0.52   \n",
      "3   0.31   0.00   0.00  0.00  0.00  0.00  0.63  0.45  0.00  0.00    0.00   \n",
      "4   0.39   0.69   0.00  0.00  0.46  0.00  0.39  0.00  0.00  0.00    0.00   \n",
      "\n",
      "   quick   red  sleep  \n",
      "0   0.54  0.00   0.00  \n",
      "1   0.00  0.00   0.49  \n",
      "2   0.00  0.00   0.00  \n",
      "3   0.00  0.56   0.00  \n",
      "4   0.00  0.00   0.00  \n"
     ]
    },
    {
     "name": "stderr",
     "output_type": "stream",
     "text": [
      "[nltk_data] Downloading package stopwords to\n",
      "[nltk_data]     C:\\Users\\gupta\\AppData\\Roaming\\nltk_data...\n",
      "[nltk_data]   Package stopwords is already up-to-date!\n"
     ]
    }
   ],
   "source": [
    "import pandas as pd\n",
    "from sklearn.feature_extraction.text import TfidfVectorizer\n",
    "from nltk.stem import PorterStemmer\n",
    "from nltk.corpus import stopwords\n",
    "import nltk\n",
    "\n",
    "# Download the stopwords dataset from NLTK\n",
    "nltk.download('stopwords')\n",
    "\n",
    "# Define documents\n",
    "documents = [\n",
    "    \"The quick brown fox jumps over the lazy dog\",\n",
    "    \"The lazy dog likes to sleep all day\",\n",
    "    \"The brown fox prefers to eat cheese\",\n",
    "    \"The red fox jumps over the brown fox\",\n",
    "    \"The brown dog chases the fox\"\n",
    "]\n",
    "\n",
    "# Initialize the Porter Stemmer\n",
    "stemmer = PorterStemmer()\n",
    "\n",
    "# Apply preprocessing to each document\n",
    "preprocessed_documents = [preprocess(doc) for doc in documents]\n",
    "\n",
    "# Initialize the TF-IDF Vectorizer\n",
    "vectorizer = TfidfVectorizer()\n",
    "\n",
    "# Fit and transform the preprocessed documents\n",
    "X = vectorizer.fit_transform(preprocessed_documents)\n",
    "\n",
    "# Get feature names (words)\n",
    "feature_names = vectorizer.get_feature_names_out()\n",
    "\n",
    "# Convert to DataFrame for better readability\n",
    "df = pd.DataFrame(X.toarray(), columns=feature_names)\n",
    "\n",
    "# Round the values to two decimal places\n",
    "df = df.round(2)\n",
    "\n",
    "print(\"TF-IDF Matrix:\")\n",
    "print(df)"
   ]
  },
  {
   "cell_type": "code",
   "execution_count": 27,
   "id": "ce830939",
   "metadata": {},
   "outputs": [],
   "source": [
    "df.to_csv(\"tfidf.csv\")"
   ]
  }
 ],
 "metadata": {
  "kernelspec": {
   "display_name": "Python 3 (ipykernel)",
   "language": "python",
   "name": "python3"
  },
  "language_info": {
   "codemirror_mode": {
    "name": "ipython",
    "version": 3
   },
   "file_extension": ".py",
   "mimetype": "text/x-python",
   "name": "python",
   "nbconvert_exporter": "python",
   "pygments_lexer": "ipython3",
   "version": "3.11.5"
  }
 },
 "nbformat": 4,
 "nbformat_minor": 5
}
